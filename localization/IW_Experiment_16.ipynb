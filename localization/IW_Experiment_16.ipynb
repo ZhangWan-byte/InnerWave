{
 "cells": [
  {
   "cell_type": "code",
   "execution_count": 1,
   "metadata": {
    "colab": {
     "base_uri": "https://localhost:8080/"
    },
    "id": "Q3M12N2OEAhj",
    "outputId": "798f6bdd-b42e-454a-a297-179c07e1d348"
   },
   "outputs": [
    {
     "name": "stdout",
     "output_type": "stream",
     "text": [
      "Mounted at /content/drive\n"
     ]
    }
   ],
   "source": [
    "# from google.colab import drive\n",
    "# drive.mount('/content/drive')"
   ]
  },
  {
   "cell_type": "code",
   "execution_count": 38,
   "metadata": {
    "id": "YOXIQLdsIGj5"
   },
   "outputs": [],
   "source": [
    "import scipy.io as scio\n",
    "import numpy as np\n",
    "import matplotlib.pyplot as plt\n",
    "import os\n",
    "import pandas as pd\n",
    "import warnings\n",
    "\n",
    "warnings.filterwarnings('ignore')"
   ]
  },
  {
   "cell_type": "code",
   "execution_count": 10,
   "metadata": {
    "id": "OZb2r7-iIHvB"
   },
   "outputs": [],
   "source": [
    "from sklearn.preprocessing import StandardScaler\n",
    "\n",
    "from sklearn.model_selection import train_test_split\n",
    "from sklearn.model_selection import GridSearchCV, cross_val_score, RandomizedSearchCV\n",
    "\n",
    "from sklearn.metrics import confusion_matrix, classification_report\n",
    "from sklearn.metrics import accuracy_score, recall_score, precision_score, f1_score, mean_squared_error, mean_absolute_error\n",
    "\n",
    "from sklearn.tree import DecisionTreeClassifier\n",
    "from sklearn.neighbors import KNeighborsClassifier\n",
    "from sklearn.ensemble import RandomForestClassifier, RandomForestRegressor\n",
    "from xgboost import XGBClassifier, XGBRegressor\n",
    "from lightgbm import LGBMClassifier, LGBMRegressor"
   ]
  },
  {
   "cell_type": "markdown",
   "metadata": {
    "id": "9lwFvsYtpWSm"
   },
   "source": [
    "# Data Preprocessing"
   ]
  },
  {
   "cell_type": "code",
   "execution_count": 3,
   "metadata": {
    "id": "rX6kVNMOIInR"
   },
   "outputs": [],
   "source": [
    "inputspath_16 = \"C:\\\\Users\\\\BillWan\\\\Desktop\\\\Inner_Wave\\\\pre-exp\\\\inputs_win16.csv\"\n",
    "labelspath_16 = \"C:\\\\Users\\\\BillWan\\\\Desktop\\\\Inner_Wave\\\\pre-exp\\\\labels_win16.csv\"\n",
    "X_16 = pd.read_csv(inputspath_16)\n",
    "y_16 = pd.read_csv(labelspath_16)"
   ]
  },
  {
   "cell_type": "code",
   "execution_count": 4,
   "metadata": {
    "colab": {
     "base_uri": "https://localhost:8080/"
    },
    "id": "kzgeMSwbIqlf",
    "outputId": "7a73ab2a-e2d8-4134-b4e7-35ab4b4163e1"
   },
   "outputs": [
    {
     "name": "stdout",
     "output_type": "stream",
     "text": [
      "(53440, 16)\n",
      "(6680, 2)\n"
     ]
    }
   ],
   "source": [
    "print(X_16.shape)\n",
    "print(y_16.shape)"
   ]
  },
  {
   "cell_type": "code",
   "execution_count": 5,
   "metadata": {
    "colab": {
     "base_uri": "https://localhost:8080/"
    },
    "id": "j1vBYGDHJYqP",
    "outputId": "b1ed938c-7276-4573-ecb9-992da3c49eb2"
   },
   "outputs": [
    {
     "name": "stdout",
     "output_type": "stream",
     "text": [
      "(6680, 96)\n"
     ]
    }
   ],
   "source": [
    "index = np.arange(53440)\n",
    "sub_idx1 = index[2::8]\n",
    "sub_idx2 = index[3::8]\n",
    "sub_idx3 = index[4::8]\n",
    "sub_idx4 = index[5::8]\n",
    "sub_idx5 = index[6::8]\n",
    "sub_idx6 = index[7::8]\n",
    "\n",
    "X_16 = X_16.values\n",
    "X_6v = np.empty([0, 96])\n",
    "\n",
    "for i in range(sub_idx1.shape[0]):\n",
    "    X_app = np.concatenate((X_16[sub_idx1[i]], X_16[sub_idx2[i]], X_16[sub_idx3[i]], X_16[sub_idx4[i]], X_16[sub_idx5[i]], X_16[sub_idx6[i]]))\n",
    "    X_app = np.reshape(X_app,(1,96))\n",
    "    X_6v = np.append(X_6v, X_app, axis=0)\n",
    "print(X_6v.shape)"
   ]
  },
  {
   "cell_type": "code",
   "execution_count": 6,
   "metadata": {
    "colab": {
     "base_uri": "https://localhost:8080/"
    },
    "id": "kOHR1KnOL8CW",
    "outputId": "95c530aa-a67c-4166-fb2b-1cb1b07e56b5"
   },
   "outputs": [
    {
     "name": "stdout",
     "output_type": "stream",
     "text": [
      "True\n",
      "False\n"
     ]
    }
   ],
   "source": [
    "print(np.any(np.isnan(X_6v)))\n",
    "\n",
    "where_are_NaNs = np.isnan(X_6v)\n",
    "X_6v[where_are_NaNs] = 0\n",
    "\n",
    "print(np.any(np.isnan(X_6v)))"
   ]
  },
  {
   "cell_type": "code",
   "execution_count": 7,
   "metadata": {
    "colab": {
     "base_uri": "https://localhost:8080/"
    },
    "id": "qsFKPIazQCd8",
    "outputId": "01b3520f-403e-46f9-a158-4fb0568a56cc"
   },
   "outputs": [
    {
     "data": {
      "text/plain": [
       "(6680,)"
      ]
     },
     "execution_count": 7,
     "metadata": {},
     "output_type": "execute_result"
    }
   ],
   "source": [
    "y = y_16.iloc[:,1].values\n",
    "y.shape"
   ]
  },
  {
   "cell_type": "markdown",
   "metadata": {},
   "source": [
    "# visualisation"
   ]
  },
  {
   "cell_type": "code",
   "execution_count": 158,
   "metadata": {
    "scrolled": true
   },
   "outputs": [
    {
     "data": {
      "text/plain": [
       "[<matplotlib.lines.Line2D at 0x2092b46dd48>]"
      ]
     },
     "execution_count": 158,
     "metadata": {},
     "output_type": "execute_result"
    },
    {
     "data": {
      "image/png": "[encoded data removed]",
      "text/plain": [
       "<Figure size 432x288 with 1 Axes>"
      ]
     },
     "metadata": {
      "needs_background": "light"
     },
     "output_type": "display_data"
    }
   ],
   "source": [
    "plt.plot(X_16[8*6+2])"
   ]
  },
  {
   "cell_type": "code",
   "execution_count": 190,
   "metadata": {},
   "outputs": [
    {
     "data": {
      "text/plain": [
       "5"
      ]
     },
     "execution_count": 190,
     "metadata": {},
     "output_type": "execute_result"
    }
   ],
   "source": [
    "y[6]"
   ]
  },
  {
   "cell_type": "code",
   "execution_count": 196,
   "metadata": {
    "scrolled": true
   },
   "outputs": [
    {
     "data": {
      "text/plain": [
       "[<matplotlib.lines.Line2D at 0x2092b906208>]"
      ]
     },
     "execution_count": 196,
     "metadata": {},
     "output_type": "execute_result"
    },
    {
     "data": {
      "image/png": "[encoded data removed]",
      "text/plain": [
       "<Figure size 432x288 with 1 Axes>"
      ]
     },
     "metadata": {
      "needs_background": "light"
     },
     "output_type": "display_data"
    }
   ],
   "source": [
    "plt.plot(X_16[8*14+2])"
   ]
  },
  {
   "cell_type": "code",
   "execution_count": 194,
   "metadata": {},
   "outputs": [
    {
     "data": {
      "text/plain": [
       "15"
      ]
     },
     "execution_count": 194,
     "metadata": {},
     "output_type": "execute_result"
    }
   ],
   "source": [
    "y[14]"
   ]
  },
  {
   "cell_type": "markdown",
   "metadata": {
    "id": "6oK4htg7WedX"
   },
   "source": [
    "# XGBoostRegressor"
   ]
  },
  {
   "cell_type": "code",
   "execution_count": 329,
   "metadata": {
    "colab": {
     "base_uri": "https://localhost:8080/",
     "height": 374
    },
    "id": "ZUe9YMUJPjOh",
    "outputId": "6817ce3b-6638-40bb-c7e5-ed2b94e7b8a8"
   },
   "outputs": [
    {
     "name": "stdout",
     "output_type": "stream",
     "text": [
      "Round 1\n",
      "Best parameters: {'n_estimators': 350, 'max_depth': 6, 'learning_rate': 0.03, 'gamma': 0.1}\n",
      "MSE: 3.2562\n",
      "MAE: 0.9047\n",
      "----------------------------------------------------------------------------------------------------------------------\n",
      "Round 2\n",
      "Best parameters: {'n_estimators': 250, 'max_depth': 8, 'learning_rate': 0.03, 'gamma': 0.3}\n",
      "MSE: 4.0432\n",
      "MAE: 0.7859\n",
      "----------------------------------------------------------------------------------------------------------------------\n",
      "Round 3\n",
      "Best parameters: {'n_estimators': 300, 'max_depth': 8, 'learning_rate': 0.03, 'gamma': 0.1}\n",
      "MSE: 3.5753\n",
      "MAE: 0.7411\n",
      "----------------------------------------------------------------------------------------------------------------------\n",
      "Round 4\n",
      "Best parameters: {'n_estimators': 300, 'max_depth': 8, 'learning_rate': 0.1, 'gamma': 0.3}\n",
      "MSE: 4.6930\n",
      "MAE: 0.8100\n",
      "----------------------------------------------------------------------------------------------------------------------\n",
      "Round 5\n",
      "Best parameters: {'n_estimators': 300, 'max_depth': 6, 'learning_rate': 0.1, 'gamma': 0.3}\n",
      "MSE: 3.3174\n",
      "MAE: 0.7166\n",
      "----------------------------------------------------------------------------------------------------------------------\n",
      "Round 6\n",
      "Best parameters: {'n_estimators': 350, 'max_depth': 8, 'learning_rate': 0.03, 'gamma': 0.3}\n",
      "MSE: 3.9824\n",
      "MAE: 0.7375\n",
      "----------------------------------------------------------------------------------------------------------------------\n",
      "Round 7\n",
      "Best parameters: {'n_estimators': 300, 'max_depth': 8, 'learning_rate': 0.03, 'gamma': 0.1}\n",
      "MSE: 3.8607\n",
      "MAE: 0.7348\n",
      "----------------------------------------------------------------------------------------------------------------------\n",
      "Round 8\n",
      "Best parameters: {'n_estimators': 350, 'max_depth': 8, 'learning_rate': 0.1, 'gamma': 0.1}\n",
      "MSE: 3.8693\n",
      "MAE: 0.7052\n",
      "----------------------------------------------------------------------------------------------------------------------\n",
      "Round 9\n",
      "Best parameters: {'n_estimators': 250, 'max_depth': 6, 'learning_rate': 0.1, 'gamma': 0.1}\n",
      "MSE: 4.0920\n",
      "MAE: 0.8258\n",
      "----------------------------------------------------------------------------------------------------------------------\n",
      "Round 10\n",
      "Best parameters: {'n_estimators': 350, 'max_depth': 8, 'learning_rate': 0.03, 'gamma': 0.1}\n",
      "MSE: 3.6064\n",
      "MAE: 0.7333\n",
      "----------------------------------------------------------------------------------------------------------------------\n"
     ]
    }
   ],
   "source": [
    "ave_score_XGB_MSE_final = []\n",
    "ave_score_XGB_MAE_final = []\n",
    "\n",
    "\n",
    "for i in range(10):\n",
    "\n",
    "  X_train_16, X_test_16, y_train_16, y_test_16 = train_test_split( X_6v, y, test_size=0.2)\n",
    "\n",
    "  scaler=StandardScaler()\n",
    "  X_train_16=scaler.fit_transform(X_train_16)\n",
    "  X_test_16=scaler.transform(X_test_16)\n",
    "\n",
    "  XGB = XGBRegressor(n_jobs=-1,colsample_bytree=0.6,objective ='reg:squarederror')\n",
    "\n",
    "  param_grid = {\n",
    "          \"n_estimators\": [250,300,350],\n",
    "          \"learning_rate\": [0.01, 0.03, 0.10],\n",
    "          \"gamma\": [0.1,0.3],\n",
    "          \"max_depth\": [6,8]\n",
    "          }\n",
    "  XGB_grid = RandomizedSearchCV(XGB, param_grid, cv=5)\n",
    "  XGB_grid.fit(X_train_16,y_train_16)\n",
    "  best_est_XGB = XGB_grid.best_estimator_ \n",
    "\n",
    "  best_est_XGB.fit(X_train_16,y_train_16)\n",
    "\n",
    "  y_pred = best_est_XGB.predict(X_test_16)\n",
    "  print('Round {}'.format(i+1))\n",
    "  print('Best parameters:', XGB_grid.best_params_)\n",
    "  print('MSE: {:.4f}'.format(mean_squared_error(y_test_16, y_pred)))\n",
    "  print('MAE: {:.4f}'.format(mean_absolute_error(y_test_16, y_pred)))\n",
    "\n",
    "  print('----------------------------------------------------------------------------------------------------------------------')\n",
    "\n",
    "  ave_score_XGB_MSE_final.append(mean_squared_error(y_test_16, y_pred))\n",
    "  ave_score_XGB_MAE_final.append(mean_absolute_error(y_test_16, y_pred))"
   ]
  },
  {
   "cell_type": "code",
   "execution_count": 330,
   "metadata": {
    "colab": {
     "base_uri": "https://localhost:8080/"
    },
    "id": "mTmrue4oSrQW",
    "outputId": "8b61cd28-c8e6-4b1a-84af-1054e70f53fc",
    "scrolled": true
   },
   "outputs": [
    {
     "name": "stdout",
     "output_type": "stream",
     "text": [
      "average MSE: 3.829578368776089\n",
      "average MAE: 0.7694927297733323\n"
     ]
    }
   ],
   "source": [
    "print(\"average MSE: {}\".format(np.mean(ave_score_XGB_MSE_final)))\n",
    "print(\"average MAE: {}\".format(np.mean(ave_score_XGB_MAE_final)))"
   ]
  },
  {
   "cell_type": "markdown",
   "metadata": {},
   "source": [
    "## (num_leaves=32,n_estimators=350,learning_rate=0.1,min_child_samples=8,max_depth=20,colsample_bytree=0.6)"
   ]
  },
  {
   "cell_type": "code",
   "execution_count": 287,
   "metadata": {},
   "outputs": [
    {
     "name": "stdout",
     "output_type": "stream",
     "text": [
      "MSE:  3.722438766705641\n",
      "MAE:  0.7163124487401377\n"
     ]
    }
   ],
   "source": [
    "MSE_XGB = []\n",
    "MAE_XGB = []\n",
    "\n",
    "\n",
    "for i in range(10):\n",
    "\n",
    "    X_train_16, X_test_16, y_train_16, y_test_16 = train_test_split( X_6v, y, test_size=0.2)\n",
    "\n",
    "    scaler=StandardScaler()\n",
    "    X_train_16=scaler.fit_transform(X_train_16)\n",
    "    X_test_16=scaler.transform(X_test_16)\n",
    "\n",
    "    XGB = XGBRegressor(n_jobs=-1,n_estimators=350,learning_rate=0.03,gamma=0.2,max_depth=8,colsample_bytree=0.6,objective ='reg:squarederror')\n",
    "\n",
    "    XGB.fit(X_train_16,y_train_16)\n",
    "\n",
    "    y_pred = XGB.predict(X_test_16)\n",
    "    print('Round {}'.format(i+1))\n",
    "    print('MSE: {:.4f}'.format(mean_squared_error(y_test_16, y_pred)))\n",
    "    print('MAE: {:.4f}'.format(mean_absolute_error(y_test_16, y_pred)))\n",
    "\n",
    "    print('----------------------------------------------------------------------------------------------------------------------')\n",
    "\n",
    "    MSE_XGB.append(mean_squared_error(y_test_16, y_pred))\n",
    "    MAE_XGB.append(mean_absolute_error(y_test_16, y_pred))"
   ]
  },
  {
   "cell_type": "markdown",
   "metadata": {},
   "source": [
    "## Formal test"
   ]
  },
  {
   "cell_type": "code",
   "execution_count": 313,
   "metadata": {},
   "outputs": [
    {
     "data": {
      "text/plain": [
       "XGBRegressor(colsample_bytree=0.6, gamma=0.2, max_depth=8, n_estimators=350,\n",
       "             n_jobs=-1, objective='reg:squarederror')"
      ]
     },
     "execution_count": 313,
     "metadata": {},
     "output_type": "execute_result"
    }
   ],
   "source": [
    "X_train_16, X_test_16, y_train_16, y_test_16 = train_test_split( X_6v, y, test_size=0.2)\n",
    "\n",
    "scaler=StandardScaler()\n",
    "X_train_16=scaler.fit_transform(X_train_16)\n",
    "X_test_16=scaler.transform(X_test_16)\n",
    " \n",
    "XGB = XGBRegressor(n_jobs=-1,n_estimators=350,learning_rate=0.1,max_depth=8,gamma=0.2,colsample_bytree=0.6,objective='reg:squarederror')\n",
    "\n",
    "XGB.fit(X_train_16,y_train_16)\n",
    "    "
   ]
  },
  {
   "cell_type": "code",
   "execution_count": 314,
   "metadata": {},
   "outputs": [
    {
     "name": "stdout",
     "output_type": "stream",
     "text": [
      "(5344, 96)\n",
      "(5344,)\n",
      "(1336, 96)\n",
      "(1336,)\n"
     ]
    }
   ],
   "source": [
    "print(X_train_16.shape)\n",
    "print(y_train_16.shape)\n",
    "print(X_test_16.shape)\n",
    "print(y_test_16.shape)"
   ]
  },
  {
   "cell_type": "code",
   "execution_count": 322,
   "metadata": {},
   "outputs": [],
   "source": [
    "# predict\n",
    "y_pred_XGB = XGB.predict(X_test_16)\n",
    "np.savetxt('y_pred_XGB', y_pred_XGB, delimiter=',')"
   ]
  },
  {
   "cell_type": "code",
   "execution_count": 323,
   "metadata": {},
   "outputs": [
    {
     "name": "stdout",
     "output_type": "stream",
     "text": [
      "MSE:  3.8221086993713485\n",
      "MAE:  0.6929277466487385\n"
     ]
    }
   ],
   "source": [
    "print(\"MSE: \",mean_squared_error(y_test_16, y_pred_XGB))\n",
    "print(\"MAE: \", mean_absolute_error(y_test_16, y_pred_XGB))"
   ]
  },
  {
   "cell_type": "code",
   "execution_count": 324,
   "metadata": {},
   "outputs": [],
   "source": [
    "# round\n",
    "y_1_XGB = np.around(y_pred_XGB)\n",
    "y_1_XGB = y_1_XGB.astype(int)\n",
    "np.savetxt('y_1_XGB', y_1_XGB, delimiter=',')"
   ]
  },
  {
   "cell_type": "code",
   "execution_count": 325,
   "metadata": {},
   "outputs": [
    {
     "data": {
      "text/plain": [
       "[<matplotlib.lines.Line2D at 0x20933239e08>]"
      ]
     },
     "execution_count": 325,
     "metadata": {},
     "output_type": "execute_result"
    },
    {
     "data": {
      "image/png": "[encoded data removed]",
      "text/plain": [
       "<Figure size 432x288 with 1 Axes>"
      ]
     },
     "metadata": {
      "needs_background": "light"
     },
     "output_type": "display_data"
    }
   ],
   "source": [
    "# difference between prediction and label\n",
    "diff_XGB = abs(y_1_XGB-y_test_16)\n",
    "np.savetxt('diff_XGB', diff_XGB, delimiter=',')\n",
    "plt.plot(diff, 'o')"
   ]
  },
  {
   "cell_type": "code",
   "execution_count": 326,
   "metadata": {},
   "outputs": [
    {
     "data": {
      "text/plain": [
       "0.7859281437125748"
      ]
     },
     "execution_count": 326,
     "metadata": {},
     "output_type": "execute_result"
    }
   ],
   "source": [
    "# direct accuracy\n",
    "(len(diff_XGB) - np.count_nonzero(diff_XGB))/len(diff_XGB)"
   ]
  },
  {
   "cell_type": "code",
   "execution_count": 327,
   "metadata": {
    "scrolled": true
   },
   "outputs": [
    {
     "data": {
      "text/plain": [
       "[<matplotlib.lines.Line2D at 0x209332b0388>]"
      ]
     },
     "execution_count": 327,
     "metadata": {},
     "output_type": "execute_result"
    },
    {
     "data": {
      "image/png": "[encoded data removed]",
      "text/plain": [
       "<Figure size 432x288 with 1 Axes>"
      ]
     },
     "metadata": {
      "needs_background": "light"
     },
     "output_type": "display_data"
    }
   ],
   "source": [
    "# <=5 then 0\n",
    "round_diff_XGB = np.zeros(len(y_test_16))\n",
    "for i in range(len(y_test_16)):\n",
    "    if abs(y_1_XGB[i]-y_test_16[i])<=5:\n",
    "        round_diff_XGB[i] = 0\n",
    "    else:\n",
    "        round_diff_XGB[i] = abs(y_1_XGB[i]-y_test_16[i])\n",
    "# plt.subplot(122)\n",
    "plt.plot(round_diff_XGB, 'o')"
   ]
  },
  {
   "cell_type": "code",
   "execution_count": 328,
   "metadata": {},
   "outputs": [
    {
     "data": {
      "text/plain": [
       "0.969311377245509"
      ]
     },
     "execution_count": 328,
     "metadata": {},
     "output_type": "execute_result"
    }
   ],
   "source": [
    "# +- 5 pixels are regarded as correctly-classified\n",
    "1-np.count_nonzero(round_diff_XGB)/len(y_test_16)"
   ]
  },
  {
   "cell_type": "markdown",
   "metadata": {},
   "source": [
    "# LightGBMRegressor"
   ]
  },
  {
   "cell_type": "code",
   "execution_count": 14,
   "metadata": {},
   "outputs": [
    {
     "name": "stdout",
     "output_type": "stream",
     "text": [
      "Round 1\n",
      "Best parameters: {'num_leaves': 32, 'n_estimators': 350, 'min_child_samples': 8, 'max_depth': 20, 'learning_rate': 0.1}\n",
      "MSE: 4.1805\n",
      "MAE: 0.7490\n",
      "----------------------------------------------------------------------------------------------------------------------\n",
      "Round 2\n",
      "Best parameters: {'num_leaves': 48, 'n_estimators': 350, 'min_child_samples': 32, 'max_depth': 20, 'learning_rate': 0.1}\n",
      "MSE: 3.9863\n",
      "MAE: 0.7708\n",
      "----------------------------------------------------------------------------------------------------------------------\n",
      "Round 3\n",
      "Best parameters: {'num_leaves': 48, 'n_estimators': 300, 'min_child_samples': 8, 'max_depth': 20, 'learning_rate': 0.1}\n",
      "MSE: 4.2792\n",
      "MAE: 0.7192\n",
      "----------------------------------------------------------------------------------------------------------------------\n",
      "Round 4\n",
      "Best parameters: {'num_leaves': 32, 'n_estimators': 350, 'min_child_samples': 8, 'max_depth': 8, 'learning_rate': 0.03}\n",
      "MSE: 4.1312\n",
      "MAE: 0.9675\n",
      "----------------------------------------------------------------------------------------------------------------------\n",
      "Round 5\n",
      "Best parameters: {'num_leaves': 32, 'n_estimators': 350, 'min_child_samples': 8, 'max_depth': 20, 'learning_rate': 0.03}\n",
      "MSE: 5.2857\n",
      "MAE: 1.0302\n",
      "----------------------------------------------------------------------------------------------------------------------\n",
      "Round 6\n",
      "Best parameters: {'num_leaves': 32, 'n_estimators': 300, 'min_child_samples': 24, 'max_depth': 16, 'learning_rate': 0.1}\n",
      "MSE: 3.8136\n",
      "MAE: 0.7981\n",
      "----------------------------------------------------------------------------------------------------------------------\n",
      "Round 7\n",
      "Best parameters: {'num_leaves': 32, 'n_estimators': 250, 'min_child_samples': 8, 'max_depth': 24, 'learning_rate': 0.1}\n",
      "MSE: 3.6550\n",
      "MAE: 0.7604\n",
      "----------------------------------------------------------------------------------------------------------------------\n",
      "Round 8\n",
      "Best parameters: {'num_leaves': 24, 'n_estimators': 350, 'min_child_samples': 20, 'max_depth': 8, 'learning_rate': 0.1}\n",
      "MSE: 3.5296\n",
      "MAE: 0.8126\n",
      "----------------------------------------------------------------------------------------------------------------------\n",
      "Round 9\n",
      "Best parameters: {'num_leaves': 16, 'n_estimators': 350, 'min_child_samples': 8, 'max_depth': 24, 'learning_rate': 0.1}\n",
      "MSE: 3.7491\n",
      "MAE: 0.8833\n",
      "----------------------------------------------------------------------------------------------------------------------\n",
      "Round 10\n",
      "Best parameters: {'num_leaves': 24, 'n_estimators': 250, 'min_child_samples': 20, 'max_depth': 32, 'learning_rate': 0.1}\n",
      "MSE: 3.4617\n",
      "MAE: 0.8433\n",
      "----------------------------------------------------------------------------------------------------------------------\n"
     ]
    }
   ],
   "source": [
    "ave_score_LGB_MSE_final = []\n",
    "ave_score_LGB_MAE_final = []\n",
    "\n",
    "\n",
    "for i in range(10):\n",
    "\n",
    "  X_train_16, X_test_16, y_train_16, y_test_16 = train_test_split( X_6v, y, test_size=0.2)\n",
    "\n",
    "  scaler=StandardScaler()\n",
    "  X_train_16=scaler.fit_transform(X_train_16)\n",
    "  X_test_16=scaler.transform(X_test_16)\n",
    "\n",
    "  LGB = LGBMRegressor(n_jobs=-1,colsample_bytree=0.6)\n",
    "\n",
    "  param_grid = {\n",
    "          \"n_estimators\": [250,300,350],\n",
    "          \"learning_rate\": [0.01, 0.03, 0.10],\n",
    "          \"num_leaves\": [16,24,32,40,48],\n",
    "          \"max_depth\": [8,16,20,24,32],\n",
    "          \"min_child_samples\": [8,16,20,24,32]\n",
    "          }\n",
    "  LGB_grid = RandomizedSearchCV(LGB, param_grid, cv=5)\n",
    "  LGB_grid.fit(X_train_16,y_train_16)\n",
    "  best_est_LGB = LGB_grid.best_estimator_ \n",
    "\n",
    "  best_est_LGB.fit(X_train_16,y_train_16)\n",
    "\n",
    "  y_pred = best_est_LGB.predict(X_test_16)\n",
    "  print('Round {}'.format(i+1))\n",
    "  print('Best parameters:', LGB_grid.best_params_)\n",
    "  print('MSE: {:.4f}'.format(mean_squared_error(y_test_16, y_pred)))\n",
    "  print('MAE: {:.4f}'.format(mean_absolute_error(y_test_16, y_pred)))\n",
    "\n",
    "  print('----------------------------------------------------------------------------------------------------------------------')\n",
    "\n",
    "  ave_score_LGB_MSE_final.append(mean_squared_error(y_test_16, y_pred))\n",
    "  ave_score_LGB_MAE_final.append(mean_absolute_error(y_test_16, y_pred))"
   ]
  },
  {
   "cell_type": "code",
   "execution_count": 16,
   "metadata": {
    "scrolled": false
   },
   "outputs": [
    {
     "name": "stdout",
     "output_type": "stream",
     "text": [
      "average MSE: 4.007201722622896\n",
      "average MAE: 0.8334229056294271\n"
     ]
    }
   ],
   "source": [
    "print(\"average MSE: {}\".format(np.mean(ave_score_LGB_MSE_final)))\n",
    "print(\"average MAE: {}\".format(np.mean(ave_score_LGB_MAE_final)))"
   ]
  },
  {
   "cell_type": "markdown",
   "metadata": {},
   "source": [
    "## (num_leaves=32,n_estimators=350,learning_rate=0.1,min_child_samples=8,max_depth=20,colsample_bytree=0.6)"
   ]
  },
  {
   "cell_type": "code",
   "execution_count": 287,
   "metadata": {},
   "outputs": [
    {
     "name": "stdout",
     "output_type": "stream",
     "text": [
      "MSE:  3.722438766705641\n",
      "MAE:  0.7163124487401377\n"
     ]
    }
   ],
   "source": [
    "MSE = []\n",
    "MAE = []\n",
    "for i in range(10):\n",
    "    X_train_16, X_test_16, y_train_16, y_test_16 = train_test_split( X_6v, y, test_size=0.2)\n",
    "\n",
    "    scaler=StandardScaler()\n",
    "    X_train_16=scaler.fit_transform(X_train_16)\n",
    "    X_test_16=scaler.transform(X_test_16)\n",
    "\n",
    "    LGB = LGBMRegressor(n_jobs=-1,num_leaves=32,n_estimators=350,learning_rate=0.1,min_child_samples=8,max_depth=20,colsample_bytree=0.6)\n",
    "\n",
    "    LGB.fit(X_train_16,y_train_16)\n",
    "    \n",
    "    y_pred = LGB.predict(X_test_16)\n",
    "    \n",
    "    MSE.append(mean_squared_error(y_test_16, y_pred))\n",
    "    MAE.append(mean_absolute_error(y_test_16, y_pred))\n",
    "\n",
    "print(\"MSE: \", np.mean(MSE))\n",
    "print(\"MAE: \", np.mean(MAE))"
   ]
  },
  {
   "cell_type": "code",
   "execution_count": 355,
   "metadata": {},
   "outputs": [
    {
     "name": "stdout",
     "output_type": "stream",
     "text": [
      "RMSE:  1.9293622694314412\n"
     ]
    }
   ],
   "source": [
    "import math\n",
    "print(\"RMSE: \", math.sqrt(np.mean(MSE)))"
   ]
  },
  {
   "cell_type": "markdown",
   "metadata": {},
   "source": [
    "## Formal test"
   ]
  },
  {
   "cell_type": "code",
   "execution_count": 342,
   "metadata": {},
   "outputs": [
    {
     "data": {
      "text/plain": [
       "LGBMRegressor(colsample_bytree=0.6, max_depth=20, min_child_samples=8,\n",
       "              n_estimators=350, num_leaves=32)"
      ]
     },
     "execution_count": 342,
     "metadata": {},
     "output_type": "execute_result"
    }
   ],
   "source": [
    "X_train_16, X_test_16, y_train_16, y_test_16 = train_test_split( X_6v, y, test_size=0.2)\n",
    "\n",
    "scaler=StandardScaler()\n",
    "X_train_16=scaler.fit_transform(X_train_16)\n",
    "X_test_16=scaler.transform(X_test_16)\n",
    " \n",
    "LGB = LGBMRegressor(n_jobs=-1,num_leaves=32,n_estimators=350,learning_rate=0.1,min_child_samples=8,max_depth=20,colsample_bytree=0.6)\n",
    "\n",
    "LGB.fit(X_train_16,y_train_16)\n",
    "    "
   ]
  },
  {
   "cell_type": "code",
   "execution_count": 343,
   "metadata": {
    "scrolled": true
   },
   "outputs": [
    {
     "name": "stdout",
     "output_type": "stream",
     "text": [
      "(5344, 96)\n",
      "(5344,)\n",
      "(1336, 96)\n",
      "(1336,)\n"
     ]
    }
   ],
   "source": [
    "print(X_train_16.shape)\n",
    "print(y_train_16.shape)\n",
    "print(X_test_16.shape)\n",
    "print(y_test_16.shape)"
   ]
  },
  {
   "cell_type": "code",
   "execution_count": 344,
   "metadata": {},
   "outputs": [],
   "source": [
    "# predict\n",
    "y_pred_LGB = LGB.predict(X_test_16)\n",
    "np.savetxt('y_pred_LGB', y_pred_LGB, delimiter=',')"
   ]
  },
  {
   "cell_type": "code",
   "execution_count": 345,
   "metadata": {},
   "outputs": [
    {
     "name": "stdout",
     "output_type": "stream",
     "text": [
      "MSE:  3.9154039064878\n",
      "MAE:  0.7266924856384579\n"
     ]
    }
   ],
   "source": [
    "print(\"MSE: \",mean_squared_error(y_test_16, y_pred_LGB))\n",
    "print(\"MAE: \", mean_absolute_error(y_test_16, y_pred_LGB))"
   ]
  },
  {
   "cell_type": "code",
   "execution_count": 346,
   "metadata": {},
   "outputs": [],
   "source": [
    "# round\n",
    "y_1_LGB = np.around(y_pred_LGB)\n",
    "y_1_LGB = y_1_LGB.astype(int)\n",
    "np.savetxt('y_1_LGB', y_1_LGB, delimiter=',')"
   ]
  },
  {
   "cell_type": "code",
   "execution_count": 347,
   "metadata": {},
   "outputs": [
    {
     "data": {
      "text/plain": [
       "[<matplotlib.lines.Line2D at 0x2091e660fc8>]"
      ]
     },
     "execution_count": 347,
     "metadata": {},
     "output_type": "execute_result"
    },
    {
     "data": {
      "image/png": "[encoded data removed]",
      "text/plain": [
       "<Figure size 432x288 with 1 Axes>"
      ]
     },
     "metadata": {
      "needs_background": "light"
     },
     "output_type": "display_data"
    }
   ],
   "source": [
    "# difference between prediction and label\n",
    "diff_LGB = abs(y_1_LGB-y_test_16)\n",
    "np.savetxt('diff_LGB', diff_LGB, delimiter=',')\n",
    "plt.plot(diff, 'o')"
   ]
  },
  {
   "cell_type": "code",
   "execution_count": 348,
   "metadata": {},
   "outputs": [
    {
     "data": {
      "text/plain": [
       "0.7604790419161677"
      ]
     },
     "execution_count": 348,
     "metadata": {},
     "output_type": "execute_result"
    }
   ],
   "source": [
    "# direct accuracy\n",
    "(len(diff_LGB) - np.count_nonzero(diff_LGB))/len(diff_LGB)"
   ]
  },
  {
   "cell_type": "code",
   "execution_count": 358,
   "metadata": {
    "scrolled": true
   },
   "outputs": [
    {
     "data": {
      "text/plain": [
       "[<matplotlib.lines.Line2D at 0x2091e74b748>]"
      ]
     },
     "execution_count": 358,
     "metadata": {},
     "output_type": "execute_result"
    },
    {
     "data": {
      "image/png": "[encoded data removed]",
      "text/plain": [
       "<Figure size 432x288 with 1 Axes>"
      ]
     },
     "metadata": {
      "needs_background": "light"
     },
     "output_type": "display_data"
    }
   ],
   "source": [
    "# <=5 then 0\n",
    "round_diff_LGB = np.zeros(len(y_test_16))\n",
    "for i in range(len(y_test_16)):\n",
    "    if abs(y_1_LGB[i]-y_test_16[i])<=5:\n",
    "        round_diff_LGB[i] = 0\n",
    "    else:\n",
    "        round_diff_LGB[i] = abs(y_1_LGB[i]-y_test_16[i])\n",
    "# plt.subplot(122)\n",
    "plt.plot(round_diff_LGB, 'o')"
   ]
  },
  {
   "cell_type": "code",
   "execution_count": 359,
   "metadata": {},
   "outputs": [
    {
     "data": {
      "text/plain": [
       "0.9715568862275449"
      ]
     },
     "execution_count": 359,
     "metadata": {},
     "output_type": "execute_result"
    }
   ],
   "source": [
    "# +- 5 pixels are regarded as correctly-classified\n",
    "1-np.count_nonzero(round_diff_LGB)/len(y_test_16)"
   ]
  },
  {
   "cell_type": "markdown",
   "metadata": {},
   "source": [
    "## predict those samples with inner wave"
   ]
  },
  {
   "cell_type": "code",
   "execution_count": 332,
   "metadata": {},
   "outputs": [
    {
     "name": "stdout",
     "output_type": "stream",
     "text": [
      "1476 1476\n",
      "MSE:  0.9737147595785007\n",
      "MAE:  0.4529205128821133\n"
     ]
    }
   ],
   "source": [
    "X_IW = []\n",
    "y_IW = []\n",
    "MSE_IW = []\n",
    "MAE_IW = []\n",
    "\n",
    "for i in range(len(y)):\n",
    "    if y[i]!=0:\n",
    "        X_IW.append(X_6v[i])\n",
    "        y_IW.append(y[i])\n",
    "print(len(X_IW), len(y_IW))\n",
    "\n",
    "for i in range(10):\n",
    "    X_train_16, X_test_16, y_train_16, y_test_16 = train_test_split( X_IW, y_IW, test_size=0.2)\n",
    "\n",
    "    scaler=StandardScaler()\n",
    "    X_train_16=scaler.fit_transform(X_train_16)\n",
    "    X_test_16=scaler.transform(X_test_16)\n",
    "\n",
    "    LGB = LGBMRegressor(n_jobs=-1,num_leaves=32,n_estimators=350,learning_rate=0.1,min_child_samples=8,max_depth=20,colsample_bytree=0.6)\n",
    "\n",
    "    LGB.fit(X_train_16,y_train_16)\n",
    "    \n",
    "    y_pred_IW = LGB.predict(X_test_16)\n",
    "    MSE_IW.append(mean_squared_error(y_test_16, y_pred_IW))\n",
    "    MAE_IW.append(mean_absolute_error(y_test_16, y_pred_IW))\n",
    "\n",
    "print(\"MSE: \", np.mean(MSE_IW))\n",
    "print(\"MAE: \", np.mean(MAE_IW))\n",
    "    "
   ]
  },
  {
   "cell_type": "code",
   "execution_count": 357,
   "metadata": {},
   "outputs": [
    {
     "data": {
      "text/plain": [
       "0.9867698615069781"
      ]
     },
     "execution_count": 357,
     "metadata": {},
     "output_type": "execute_result"
    }
   ],
   "source": [
    "math.sqrt(np.mean(MSE_IW))"
   ]
  },
  {
   "cell_type": "markdown",
   "metadata": {
    "id": "isbcq5jLWkch"
   },
   "source": [
    "# NNRegressor - TODO"
   ]
  },
  {
   "cell_type": "markdown",
   "metadata": {},
   "source": [
    "## Conv - 2D"
   ]
  },
  {
   "cell_type": "code",
   "execution_count": null,
   "metadata": {
    "id": "Gm_eP94zWne6"
   },
   "outputs": [],
   "source": [
    "import tensorflow as tf\n",
    "from tensorflow.keras import Sequential,activations\n",
    "from tensorflow.keras.callbacks import ReduceLROnPlateau\n",
    "from tensorflow.keras.layers import BatchNormalization,Dropout,Dense,Flatten,Conv1D,Conv2D,MaxPooling1D,MaxPooling2D,GlobalMaxPooling2D,AveragePooling2D,Activation,Input,Add,Dense,ZeroPadding2D,Flatten\n",
    "from tensorflow.keras.optimizers import Adam\n",
    "from keras.initializers import glorot_uniform\n",
    "from keras.models import Model\n",
    "from keras import metrics\n",
    "\n",
    "import matplotlib.pyplot as plt\n",
    "%matplotlib inline"
   ]
  },
  {
   "cell_type": "code",
   "execution_count": null,
   "metadata": {
    "id": "xOs_o76OWqvM"
   },
   "outputs": [],
   "source": [
    "def plotLearningCurve(history,epochs):\n",
    "  epochRange = range(1,epochs+1)\n",
    "  plt.plot(epochRange,history.history['accuracy'])\n",
    "  plt.plot(epochRange,history.history['val_accuracy'])\n",
    "  plt.title('Model Accuracy')\n",
    "  plt.xlabel('Epoch')\n",
    "  plt.ylabel('Accuracy')\n",
    "  plt.legend(['Train','Validation'],loc='upper left')\n",
    "  plt.show()\n",
    "\n",
    "  plt.plot(epochRange,history.history['loss'])\n",
    "  plt.plot(epochRange,history.history['val_loss'])\n",
    "  plt.title('Model Loss')\n",
    "  plt.xlabel('Epoch')\n",
    "  plt.ylabel('Loss')\n",
    "  plt.legend(['Train','Validation'],loc='upper left')\n",
    "  plt.show()"
   ]
  },
  {
   "cell_type": "code",
   "execution_count": null,
   "metadata": {
    "id": "HEYtzN9xWz27"
   },
   "outputs": [],
   "source": [
    "# ====================TODO=====================\n",
    "\n",
    "data_2D = np.load(\"/content/drive/My Drive/Colab Notebooks/patch/data_2D.npz\")\n",
    "\n",
    "X_2D = data_2D[\"arr_0\"]\n",
    "y_2D = data_2D[\"arr_1\"]\n",
    "\n",
    "X_2D[np.isnan(X_2D)]=0\n",
    "y_2D[np.isnan(y_2D)]=0\n",
    "\n",
    "X_train_3, X_test_3, y_train_3, y_test_3 = train_test_split(X_2D, y_2D, test_size=0.2, random_state=42, shuffle=True)\n",
    "\n",
    "# X_train_3 = X_train.reshape(X_train.shape[0], X_train.shape[1], 1)\n",
    "# X_test_3 = X_test.reshape(X_test.shape[0], X_test.shape[1], 1)\n",
    "print(X_train_3.shape)\n",
    "print(X_test_3.shape)\n"
   ]
  },
  {
   "cell_type": "code",
   "execution_count": null,
   "metadata": {
    "id": "EOqWWrpEW2Pv"
   },
   "outputs": [],
   "source": [
    "# ====================TODO=====================\n",
    "\n",
    "model_3=Sequential()\n",
    "model_3.add(Conv2D(filters=16,kernel_size=(3,3),activation='relu',input_shape=X_train_3[0].shape,kernel_regularizer='l2',kernel_initializer=\"he_uniform\",padding=\"same\"))\n",
    "model_3.add(BatchNormalization())\n",
    "# model_3.add(MaxPooling2D())\n",
    "\n",
    "model_3.add(Conv2D(filters=32,kernel_size=(3,3),activation='relu',kernel_regularizer='l2',kernel_initializer=\"he_uniform\",padding=\"same\"))\n",
    "model_3.add(BatchNormalization())\n",
    "# model_3.add(MaxPooling2D())\n",
    "\n",
    "model_3.add(Conv2D(filters=64,kernel_size=(3,3),activation='relu',kernel_regularizer='l2',kernel_initializer=\"he_uniform\",padding=\"same\"))\n",
    "model_3.add(BatchNormalization())\n",
    "model_3.add(MaxPooling2D())\n",
    "\n",
    "model_3.add(Conv2D(filters=128,kernel_size=(3,3),activation='relu',kernel_regularizer='l2',kernel_initializer=\"he_uniform\",padding=\"same\"))\n",
    "model_3.add(BatchNormalization())\n",
    "model_3.add(MaxPooling2D())\n",
    "\n",
    "model_3.add(Conv2D(filters=256,kernel_size=(3,3),activation='relu',kernel_regularizer='l2',kernel_initializer=\"he_uniform\",padding=\"same\"))\n",
    "model_3.add(BatchNormalization())\n",
    "model_3.add(MaxPooling2D())\n",
    "\n",
    "model_3.add(Flatten())\n",
    "model_3.add(Dense(64,activation='relu',kernel_regularizer='l2',kernel_initializer=\"he_uniform\"))\n",
    "model_3.add(Dropout(0.2))\n",
    "model_3.add(Dense(32,activation='relu',kernel_regularizer='l2',kernel_initializer=\"he_uniform\"))\n",
    "model_3.add(Dropout(0.2))\n",
    "model_3.add(Dense(16,activation='relu',kernel_regularizer='l2',kernel_initializer=\"he_uniform\"))\n",
    "# model.add(Dropout(0.1))\n",
    "model_3.add(Dense(1,activation='sigmoid'))\n",
    "\n",
    "\n",
    "model_3.summary()"
   ]
  },
  {
   "cell_type": "markdown",
   "metadata": {},
   "source": [
    "## ResNet 50"
   ]
  },
  {
   "cell_type": "markdown",
   "metadata": {},
   "source": [
    "## VGG 16"
   ]
  }
 ],
 "metadata": {
  "colab": {
   "collapsed_sections": [],
   "name": "IW-Experiment-16.ipynb",
   "provenance": []
  },
  "kernelspec": {
   "display_name": "Python 3",
   "language": "python",
   "name": "python3"
  },
  "language_info": {
   "codemirror_mode": {
    "name": "ipython",
    "version": 3
   },
   "file_extension": ".py",
   "mimetype": "text/x-python",
   "name": "python",
   "nbconvert_exporter": "python",
   "pygments_lexer": "ipython3",
   "version": "3.7.6"
  }
 },
 "nbformat": 4,
 "nbformat_minor": 1
}
